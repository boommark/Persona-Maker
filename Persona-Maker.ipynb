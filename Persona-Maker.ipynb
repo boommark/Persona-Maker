{
 "cells": [
  {
   "cell_type": "markdown",
   "metadata": {},
   "source": [
    "# Persona-Maker\n",
    "\n",
    "Classification logic depends on four parameters\n",
    "\n",
    "- Bucket (10 buckets - sub headers below)\n",
    "- Hierarchy (Decision Maker or Practitioner)\n",
    "- Persona Bucket (4 persona buckets derived from Buckets)\n",
    "- Persona (8 personas, based on combination of persona bucket and hierarchy)\n",
    "\n",
    "This graphic explains the sorting logic\n",
    "![Image](https://pages.databricks.com/rs/094-YMS-629/images/Personasv3.jpg)"
   ]
  },
  {
   "cell_type": "code",
   "execution_count": 1,
   "metadata": {},
   "outputs": [],
   "source": [
    "#Import core libraries. Ensure you have these installed in your work environment.\n",
    "import numpy as np\n",
    "import pandas as pd\n",
    "import re"
   ]
  },
  {
   "cell_type": "code",
   "execution_count": null,
   "metadata": {},
   "outputs": [],
   "source": [
    "#Import csv extract. Set encoding to ISO-8859-1 to avoid formatting issues. Substitute in desired input file name\n",
    "df = pd.read_csv(\"--FileName.csv---\", encoding = \"ISO-8859-1\")"
   ]
  },
  {
   "cell_type": "code",
   "execution_count": 3,
   "metadata": {},
   "outputs": [],
   "source": [
    "#The 'set_bucket' method returns the persona based on job title\n",
    "def set_bucket(title):\n",
    "    \n",
    "    csuitetech=['chief information','chief techn','chief data','chief archit','chief analyt','chief artifical intelligence']\n",
    "    engineer=['engin','develop','programmer','dev ','devops','dev ops','desarr','desen','etl','java','apache','python','scala']\n",
    "    datascientist=['data scien','deep learning','decision science','machine learning','ml','artificial intelligence','iot']\n",
    "    dataanalyst=['data analys','bi analys','statist','insight','informatics','analyt','intelligen','analysis','reporting']\n",
    "    it=['aws','azure','agile','analista','application','administra','capacity','continuity','cyber','computing','linux','unix','threat','sharepoint','itil','itsm','disaster recovery','delivery','deployment','desktop','dw','erp','crm','enterprise','mainframe','server','storage','middleware','implementation','informatique','solution','computer','tech','information','platform','cloud','dba', 'data','integration','warehouse','analyst','infrastructure','digital','software','network','system admin','systems','security','end user']\n",
    "   \n",
    "    if any(x in title.lower() for x in csuitetech):\n",
    "        return 'C-Level Technology Decision Maker'\n",
    "    elif re.search(r\"((?!\\w)|[ ]|[/]|[-]|^)c(i|d|t|ai)o\", title.lower()):\n",
    "        return 'C-Level Technology Decision Maker' \n",
    "    elif re.search(r\"(.*)chief(.*)architect(.*)\", title.lower()):\n",
    "        return 'C-Level Technology Decision Maker' \n",
    "    elif re.search(r\"(.*)chief(.*)(technology|information|digital|ai|it)(.*)officer(.*)\", title.lower()):\n",
    "        return 'C-Level Technology Decision Maker'\n",
    "    elif re.search(r\"(^|[ ]|[,]|[/])c\\wo([,]|[ ]|$)\", title.lower()):\n",
    "        return 'C-Level Decision Maker'\n",
    "    elif re.search(r\"(.*)chief(.*)officer(.*)\", title.lower()):\n",
    "        return 'C-Level Decision Maker'\n",
    "    elif any(x in title.lower() for x in datascientist):\n",
    "        return 'Data Science'\n",
    "    elif re.search(r\"(^|[ ]|[,]|[/])ai([,]|[ ]|$)\", title.lower()):\n",
    "        return 'Data Science'\n",
    "    elif any(x in title.lower() for x in engineer):\n",
    "        return 'Engineering'\n",
    "    elif re.search(r\"(^|[ ])dev\", title.lower()):\n",
    "        return 'Engineering'\n",
    "    elif re.search(r\"(^|[,]|[ ])ai([,]|[ ])\", title.lower()):\n",
    "        return 'Data Science'\n",
    "    elif any(x in title.lower() for x in dataanalyst):\n",
    "        return 'Data Analyst'\n",
    "    elif 'architect' in title.lower():\n",
    "        return 'Architect'\n",
    "    elif 'consult' in title.lower():\n",
    "        return 'Consultant'  \n",
    "    elif 'BI' in title:\n",
    "        return 'Data Analyst'\n",
    "    elif any(x in title.lower() for x in it):\n",
    "        return 'Information Technology'    \n",
    "    elif 'IT' in title:\n",
    "        return 'Information Technology'\n",
    "    elif 'IS' in title:\n",
    "        return 'Information Technology'\n",
    "    elif re.search(r\"(^|[ ]|[,]|[/])is([,]|[ ]|$)\", title.lower()):\n",
    "        return 'Information Technology'\n",
    "    elif 'blank' in title.lower():\n",
    "        return 'Blank'\n",
    "    else:\n",
    "        return 'Other'"
   ]
  },
  {
   "cell_type": "code",
   "execution_count": 4,
   "metadata": {},
   "outputs": [],
   "source": [
    "#The 'set_hierarchy' method classifies individuals as decision makers vs practitioners\n",
    "\n",
    "def set_hierarchy(title):\n",
    "    \n",
    "    csuitetech=['chief information','chief techn','chief data','chief archit','chief analyt', 'chief artifical intelligence']\n",
    "    decisionmaker=['principal','head','director','vp','president','founder','chief','co-founder']\n",
    "    \n",
    "    if any(x in title.lower() for x in csuitetech):\n",
    "        return ''\n",
    "    elif re.search(r\"((?!\\w)|[ ]|[/]|[-]|^)c(i|d|t|ai)o\", title.lower()):\n",
    "        return '' \n",
    "    elif re.search(r\"(.*)chief(.*)architect(.*)\", title.lower()):\n",
    "        return '' \n",
    "    elif re.search(r\"(.*)chief(.*)(technology|information|digital|ai|it)(.*)officer(.*)\", title.lower()):\n",
    "        return ''\n",
    "    elif re.search(r\"(^|[ ]|[,]|[/])c\\wo([,]|[ ]|$)\", title.lower()):\n",
    "        return ''\n",
    "    elif re.search(r\"(.*)chief(.*)officer(.*)\", title.lower()):\n",
    "        return ''\n",
    "    elif any(x in title.lower() for x in decisionmaker):\n",
    "        return 'Decision Maker'  \n",
    "    else:\n",
    "        return 'Practitioner'"
   ]
  },
  {
   "cell_type": "code",
   "execution_count": 7,
   "metadata": {},
   "outputs": [],
   "source": [
    "#The 'set_persona_bucket' method combines the sub-personas into the primary persona fields - Data Engineering or Data Science\n",
    "\n",
    "def set_persona_bucket(bucket):\n",
    "    \n",
    "    de=['Engineering','Architect','Information Technology']\n",
    "    ds=['Data Science','Data Analyst']\n",
    "        \n",
    "    if any(x in bucket for x in de):\n",
    "        return 'Data Engineering'\n",
    "    elif any(x in bucket for x in ds):\n",
    "        return 'Data Science'\n",
    "    elif 'C-Level Technology Decision Maker' in bucket:\n",
    "        return 'C-Level Technology Decision Maker' \n",
    "    elif 'C-Level Decision Maker' in bucket:\n",
    "        return 'C-Level Decision Maker' \n",
    "    else:\n",
    "        return 'Other'    "
   ]
  },
  {
   "cell_type": "code",
   "execution_count": null,
   "metadata": {},
   "outputs": [],
   "source": [
    "#Inspect imported data\n",
    "df.info()"
   ]
  },
  {
   "cell_type": "code",
   "execution_count": null,
   "metadata": {
    "scrolled": true
   },
   "outputs": [],
   "source": [
    "#Fix NULLs\n",
    "df['Title'].fillna('blank',inplace=True)\n",
    "df.fillna('blank',inplace=True)\n",
    "df.info()"
   ]
  },
  {
   "cell_type": "code",
   "execution_count": 11,
   "metadata": {},
   "outputs": [],
   "source": [
    "df['Bucket'] = df['Title'].apply(lambda x: set_bucket(x))"
   ]
  },
  {
   "cell_type": "code",
   "execution_count": 12,
   "metadata": {},
   "outputs": [],
   "source": [
    "df['Hierarchy'] = df['Title'].apply(lambda x: set_hierarchy(x))"
   ]
  },
  {
   "cell_type": "code",
   "execution_count": 13,
   "metadata": {},
   "outputs": [],
   "source": [
    "df['Persona Bucket'] = df['Bucket'].apply(lambda x: set_persona_bucket(x))"
   ]
  },
  {
   "cell_type": "code",
   "execution_count": 14,
   "metadata": {},
   "outputs": [],
   "source": [
    "df['Persona'] = df['Persona Bucket']+\" \"+df['Hierarchy']"
   ]
  },
  {
   "cell_type": "code",
   "execution_count": 17,
   "metadata": {},
   "outputs": [],
   "source": [
    "#Fix final output file name\n",
    "df.to_csv(\"---TargetFileName.csv---\")"
   ]
  },
  {
   "cell_type": "code",
   "execution_count": null,
   "metadata": {},
   "outputs": [],
   "source": [
    "#End of Code"
   ]
  }
 ],
 "metadata": {
  "kernelspec": {
   "display_name": "Python 3",
   "language": "python",
   "name": "python3"
  },
  "language_info": {
   "codemirror_mode": {
    "name": "ipython",
    "version": 3
   },
   "file_extension": ".py",
   "mimetype": "text/x-python",
   "name": "python",
   "nbconvert_exporter": "python",
   "pygments_lexer": "ipython3",
   "version": "3.7.6"
  }
 },
 "nbformat": 4,
 "nbformat_minor": 2
}
